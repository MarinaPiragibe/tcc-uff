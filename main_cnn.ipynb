{
 "cells": [
  {
   "cell_type": "markdown",
   "id": "69538ff2",
   "metadata": {},
   "source": [
    "# Treinamento e Avaliação de uma CNN (VGG16) com CIFAR10\n",
    "Este notebook replica o fluxo do script `main_cnn.py`, realizando o treinamento e avaliação de uma rede neural convolucional (CNN) baseada na arquitetura VGG16 utilizando o dataset CIFAR10.\n",
    "\n",
    "Cada etapa do processo está separada em células, com explicações em português."
   ]
  },
  {
   "cell_type": "markdown",
   "id": "0e10397c",
   "metadata": {},
   "source": [
    "## 1. Importação de Bibliotecas\n",
    "Importe as bibliotecas necessárias para o treinamento, avaliação e manipulação dos dados."
   ]
  },
  {
   "cell_type": "code",
   "execution_count": 10,
   "id": "87426337",
   "metadata": {},
   "outputs": [],
   "source": [
    "import torch\n",
    "from torch import nn, optim\n",
    "\n",
    "# Carregamento de Dados e Modelos\n",
    "from torch.utils.data import DataLoader\n",
    "from torchvision import datasets, models\n",
    "from torchvision import transforms\n",
    "\n",
    "# Plots e análises\n",
    "from sklearn.metrics import accuracy_score\n",
    "import matplotlib.pyplot as plt\n",
    "import numpy as np\n",
    "import time, os\n",
    "\n",
    "from cnn.modelo import Modelo\n",
    "from utils.imagem_utils import ImagemUtils\n",
    "from utils.metricas import Metricas\n",
    "\n",
    "import logging\n",
    "logging.basicConfig(\n",
    "    level=logging.DEBUG,\n",
    "    format=\"%(asctime)s - %(levelname)s - %(message)s\"\n",
    ")"
   ]
  },
  {
   "cell_type": "markdown",
   "id": "bcb5213e",
   "metadata": {},
   "source": [
    "## 2. Definição de Parâmetros e Dispositivo\n",
    "Defina os hiperparâmetros do treinamento e selecione o dispositivo (GPU ou CPU) conforme disponibilidade."
   ]
  },
  {
   "cell_type": "code",
   "execution_count": null,
   "id": "7e476482",
   "metadata": {},
   "outputs": [
    {
     "name": "stderr",
     "output_type": "stream",
     "text": [
      "2025-09-28 11:15:22,788 - INFO - CUDA não disponível. Usando CPU para treinamento.\n"
     ]
    }
   ],
   "source": [
    "# Definição dos hiperparâmetros e dispositivo\n",
    "args = {\n",
    "    'num_epocas': 1,     # Número de épocas de treinamento\n",
    "    'taxa_aprendizado': 1e-3,           # Taxa de aprendizado\n",
    "    'penalidade': 8e-4, # Penalidade (weight decay)\n",
    "    'tamanho_lote': 5, # Tamanho do lote\n",
    "    'qtd_classes': 10   # Número de classes do CIFAR10\n",
    "}\n",
    "\n",
    "if torch.cuda.is_available():\n",
    "    args['dispositivo'] = torch.device('cuda')\n",
    "    logging.info(\"CUDA disponível. Usando GPU para treinamento.\")\n",
    "else:\n",
    "    args['dispositivo'] = torch.device('cpu')\n",
    "    logging.info(\"CUDA não disponível. Usando CPU para treinamento.\")"
   ]
  },
  {
   "cell_type": "markdown",
   "id": "ffd0129b",
   "metadata": {},
   "source": [
    "## 3. Definição das Transformações de Imagem\n",
    "Utilize as transformações recomendadas para o dataset, baseadas no ImageNet."
   ]
  },
  {
   "cell_type": "code",
   "execution_count": 12,
   "id": "92138306",
   "metadata": {},
   "outputs": [
    {
     "name": "stderr",
     "output_type": "stream",
     "text": [
      "2025-09-28 11:15:22,814 - INFO - Transformações de imagem definidas.\n"
     ]
    }
   ],
   "source": [
    "# Definindo transformações para imagens (ImageNet)\n",
    "transform = ImagemUtils.opcoes_transformacao_imagenet()\n",
    "logging.info(\"Transformações de imagem definidas.\")"
   ]
  },
  {
   "cell_type": "markdown",
   "id": "9d85c44f",
   "metadata": {},
   "source": [
    "## 4. Carregamento dos Dados CIFAR10\n",
    "Carregue os conjuntos de treino e teste do CIFAR10, aplicando as transformações definidas."
   ]
  },
  {
   "cell_type": "code",
   "execution_count": 13,
   "id": "091897b4",
   "metadata": {},
   "outputs": [
    {
     "name": "stderr",
     "output_type": "stream",
     "text": [
      "2025-09-28 11:15:27,842 - INFO - Conjunto de treino carregado.\n",
      "2025-09-28 11:15:28,369 - INFO - Conjunto de teste carregado.\n"
     ]
    }
   ],
   "source": [
    "# Carregando conjunto de treino e teste CIFAR10\n",
    "train_set = datasets.CIFAR10('.',\n",
    "                      train=True,\n",
    "                      transform=transform,\n",
    "                      download=True)\n",
    "\n",
    "logging.info(\"Conjunto de treino carregado.\")\n",
    "\n",
    "test_set = datasets.CIFAR10('.',\n",
    "                      train=False,\n",
    "                      transform=transform,\n",
    "                      download=False)\n",
    "logging.info(\"Conjunto de teste carregado.\")"
   ]
  },
  {
   "cell_type": "markdown",
   "id": "6d8d6d09",
   "metadata": {},
   "source": [
    "## 5. Criação dos DataLoaders\n",
    "Crie os DataLoaders para os conjuntos de treino e teste, utilizando o tamanho de lote definido e embaralhamento dos dados."
   ]
  },
  {
   "cell_type": "code",
   "execution_count": 14,
   "id": "65e4fee3",
   "metadata": {},
   "outputs": [
    {
     "name": "stderr",
     "output_type": "stream",
     "text": [
      "2025-09-28 11:15:28,393 - INFO - Tamanho do lote: 2\n",
      "2025-09-28 11:15:28,397 - INFO - Número de classes: 10\n"
     ]
    }
   ],
   "source": [
    "# Criação dos DataLoaders\n",
    "train_loader = DataLoader(train_set,\n",
    "                          batch_size=args['tamanho_lote'],\n",
    "                          shuffle=True)\n",
    "test_loader = DataLoader(test_set,\n",
    "                          batch_size=args['tamanho_lote'],\n",
    "                          shuffle=True)\n",
    "\n",
    "logging.info(f\"Tamanho do lote: {args['tamanho_lote']}\")\n",
    "logging.info(f\"Número de classes: {args['qtd_classes']}\")"
   ]
  },
  {
   "cell_type": "markdown",
   "id": "5af8d772",
   "metadata": {},
   "source": [
    "## 6. Inicialização da Função de Perda\n",
    "Inicialize a função de perda CrossEntropyLoss e mova para o dispositivo selecionado."
   ]
  },
  {
   "cell_type": "code",
   "execution_count": null,
   "id": "a7ab4ddf",
   "metadata": {},
   "outputs": [
    {
     "name": "stderr",
     "output_type": "stream",
     "text": [
      "2025-09-28 11:15:28,429 - INFO - Função de perda inicializada.\n"
     ]
    },
    {
     "ename": "",
     "evalue": "",
     "output_type": "error",
     "traceback": [
      "\u001b[1;31mThe Kernel crashed while executing code in the current cell or a previous cell. \n",
      "\u001b[1;31mPlease review the code in the cell(s) to identify a possible cause of the failure. \n",
      "\u001b[1;31mClick <a href='https://aka.ms/vscodeJupyterKernelCrash'>here</a> for more info. \n",
      "\u001b[1;31mView Jupyter <a href='command:jupyter.viewOutput'>log</a> for further details."
     ]
    }
   ],
   "source": [
    "# Inicialização da função de perda\n",
    "criterio = nn.CrossEntropyLoss().to(args['dispositivo'])\n",
    "logging.info(\"Função de perda inicializada.\")"
   ]
  },
  {
   "cell_type": "markdown",
   "id": "7cc8cd33",
   "metadata": {},
   "source": [
    "## 7. Inicialização do Modelo CNN\n",
    "Inicialize o modelo CNN (VGG16) usando a classe Modelo, passando os DataLoaders, parâmetros e função de perda."
   ]
  },
  {
   "cell_type": "code",
   "execution_count": null,
   "id": "bd847b00",
   "metadata": {},
   "outputs": [],
   "source": [
    "# Inicialização do modelo CNN (VGG16)\n",
    "modelo = Modelo(\n",
    "    train_loader=train_loader,\n",
    "    test_loader=test_loader,\n",
    "    args=args,\n",
    "    criterio=criterio\n",
    ")\n",
    "logging.info(\"Modelo CNN inicializado.\")"
   ]
  },
  {
   "cell_type": "markdown",
   "id": "8f321eb7",
   "metadata": {},
   "source": [
    "## 8. Treinamento do Modelo\n",
    "Execute o método `treinar()` do modelo para realizar o treinamento da CNN."
   ]
  },
  {
   "cell_type": "code",
   "execution_count": null,
   "id": "3178c7e8",
   "metadata": {},
   "outputs": [
    {
     "name": "stderr",
     "output_type": "stream",
     "text": [
      "2025-09-28 11:10:36,857 - INFO - Iniciando treinamento do modelo CNN\n"
     ]
    },
    {
     "name": "stdout",
     "output_type": "stream",
     "text": [
      "1/10000"
     ]
    }
   ],
   "source": [
    "# Treinamento do modelo CNN\n",
    "logging.info(\"Iniciando treinamento do modelo CNN\")\n",
    "modelo.treinar()\n",
    "logging.info(\"Treinamento concluído!\")"
   ]
  },
  {
   "cell_type": "markdown",
   "id": "fb44e2fd",
   "metadata": {},
   "source": [
    "## 9. Teste do Modelo\n",
    "Execute o método `testar()` do modelo para obter as classes preditas e reais no conjunto de teste."
   ]
  },
  {
   "cell_type": "code",
   "execution_count": null,
   "id": "b62d82f9",
   "metadata": {},
   "outputs": [],
   "source": [
    "# Teste do modelo CNN\n",
    "logging.info(\"Iniciando teste do modelo CNN\")\n",
    "classes_preditas, classes_reais = modelo.testar()\n",
    "logging.info(\"Teste concluído!\")"
   ]
  },
  {
   "cell_type": "markdown",
   "id": "dc673467",
   "metadata": {},
   "source": [
    "## 10. Cálculo e Exibição das Métricas\n",
    "Utilize a classe `Metricas` para calcular e exibir as métricas de desempenho do modelo."
   ]
  },
  {
   "cell_type": "code",
   "execution_count": null,
   "id": "1e7a91e6",
   "metadata": {},
   "outputs": [],
   "source": [
    "# Cálculo e exibição das métricas de desempenho\n",
    "metricas = Metricas(classes_reais=classes_reais, classes_preditas=classes_preditas)\n",
    "logging.info(\"Calculando métricas de desempenho\")\n",
    "metricas.calcular_e_imprimir_metricas()"
   ]
  }
 ],
 "metadata": {
  "kernelspec": {
   "display_name": ".venv",
   "language": "python",
   "name": "python3"
  },
  "language_info": {
   "codemirror_mode": {
    "name": "ipython",
    "version": 3
   },
   "file_extension": ".py",
   "mimetype": "text/x-python",
   "name": "python",
   "nbconvert_exporter": "python",
   "pygments_lexer": "ipython3",
   "version": "3.10.12"
  }
 },
 "nbformat": 4,
 "nbformat_minor": 5
}
